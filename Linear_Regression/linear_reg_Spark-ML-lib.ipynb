{
 "cells": [
  {
   "cell_type": "code",
   "execution_count": 1,
   "metadata": {},
   "outputs": [
    {
     "name": "stdout",
     "output_type": "stream",
     "text": [
      "root\n",
      " |-- Time_to_Study: integer (nullable = true)\n",
      " |-- Grades: double (nullable = true)\n",
      "\n",
      "+-------------+------+\n",
      "|Time_to_Study|Grades|\n",
      "+-------------+------+\n",
      "|            1|   1.5|\n",
      "|            5|   2.7|\n",
      "|            7|   3.1|\n",
      "|            3|   2.1|\n",
      "|            2|   1.8|\n",
      "|            9|   3.9|\n",
      "|            6|   2.9|\n",
      "|           12|   4.5|\n",
      "|           11|   4.3|\n",
      "|            2|   1.8|\n",
      "|            4|   2.4|\n",
      "|            8|   3.5|\n",
      "|           13|   4.8|\n",
      "|            9|   3.9|\n",
      "|           14|   5.0|\n",
      "|           10|   4.1|\n",
      "|            6|   2.9|\n",
      "|           12|   4.5|\n",
      "|            1|   1.5|\n",
      "|            4|   2.4|\n",
      "+-------------+------+\n",
      "only showing top 20 rows\n",
      "\n"
     ]
    }
   ],
   "source": [
    "import findspark\n",
    "findspark.init()\n",
    "from pyspark.sql import SparkSession\n",
    "spark = SparkSession.builder.getOrCreate()\n",
    "data = spark.read.csv('student_grades',header=True,inferSchema=True)\n",
    "data.printSchema()\n",
    "data.show()"
   ]
  },
  {
   "cell_type": "code",
   "execution_count": 2,
   "metadata": {},
   "outputs": [],
   "source": [
    "# omit last column \n",
    "feature_cols = data.columns[:-1]\n"
   ]
  },
  {
   "cell_type": "code",
   "execution_count": 3,
   "metadata": {},
   "outputs": [],
   "source": [
    "from pyspark.ml.feature import VectorAssembler\n",
    "assembler = VectorAssembler(inputCols=feature_cols,outputCol='features')"
   ]
  },
  {
   "cell_type": "code",
   "execution_count": 4,
   "metadata": {},
   "outputs": [],
   "source": [
    "data_w_features = assembler.transform(data)"
   ]
  },
  {
   "cell_type": "code",
   "execution_count": 5,
   "metadata": {},
   "outputs": [
    {
     "name": "stdout",
     "output_type": "stream",
     "text": [
      "+--------+------+\n",
      "|features|Grades|\n",
      "+--------+------+\n",
      "|   [1.0]|   1.5|\n",
      "|   [5.0]|   2.7|\n",
      "|   [7.0]|   3.1|\n",
      "|   [3.0]|   2.1|\n",
      "|   [2.0]|   1.8|\n",
      "|   [9.0]|   3.9|\n",
      "|   [6.0]|   2.9|\n",
      "|  [12.0]|   4.5|\n",
      "|  [11.0]|   4.3|\n",
      "|   [2.0]|   1.8|\n",
      "|   [4.0]|   2.4|\n",
      "|   [8.0]|   3.5|\n",
      "|  [13.0]|   4.8|\n",
      "|   [9.0]|   3.9|\n",
      "|  [14.0]|   5.0|\n",
      "|  [10.0]|   4.1|\n",
      "|   [6.0]|   2.9|\n",
      "|  [12.0]|   4.5|\n",
      "|   [1.0]|   1.5|\n",
      "|   [4.0]|   2.4|\n",
      "+--------+------+\n",
      "only showing top 20 rows\n",
      "\n"
     ]
    }
   ],
   "source": [
    "final_data = data_w_features.select('features','Grades')\n",
    "final_data.show()"
   ]
  },
  {
   "cell_type": "code",
   "execution_count": 7,
   "metadata": {},
   "outputs": [
    {
     "name": "stdout",
     "output_type": "stream",
     "text": [
      "+-------+-----------------+\n",
      "|summary|           Grades|\n",
      "+-------+-----------------+\n",
      "|  count|               38|\n",
      "|   mean|3.321052631578947|\n",
      "| stddev|1.146359194389113|\n",
      "|    min|              1.5|\n",
      "|    max|              5.0|\n",
      "+-------+-----------------+\n",
      "\n",
      "+-------+------------------+\n",
      "|summary|            Grades|\n",
      "+-------+------------------+\n",
      "|  count|                12|\n",
      "|   mean| 2.908333333333333|\n",
      "| stddev|0.9356167954236325|\n",
      "|    min|               1.8|\n",
      "|    max|               4.3|\n",
      "+-------+------------------+\n",
      "\n"
     ]
    }
   ],
   "source": [
    "train_dataset,test_dataset = final_data.randomSplit([0.8,0.2])\n",
    "train_dataset.describe().show()\n",
    "test_dataset.describe().show()"
   ]
  },
  {
   "cell_type": "code",
   "execution_count": 9,
   "metadata": {},
   "outputs": [],
   "source": [
    "from pyspark.ml.regression import LinearRegression\n",
    "\n",
    "linReg = LinearRegression(featuresCol='features',labelCol='Grades')\n",
    "model = linReg.fit(train_dataset)"
   ]
  },
  {
   "cell_type": "code",
   "execution_count": 11,
   "metadata": {},
   "outputs": [
    {
     "name": "stdout",
     "output_type": "stream",
     "text": [
      "+--------+------+------------------+\n",
      "|features|Grades|        prediction|\n",
      "+--------+------+------------------+\n",
      "|   [2.0]|   1.8|1.8229050279329608|\n",
      "|   [2.0]|   1.8|1.8229050279329608|\n",
      "|   [3.0]|   2.1| 2.093998403830806|\n",
      "|   [3.0]|   2.1| 2.093998403830806|\n",
      "|   [3.0]|   2.1| 2.093998403830806|\n",
      "|   [4.0]|   2.4| 2.365091779728651|\n",
      "|   [8.0]|   3.5|3.4494652833200306|\n",
      "|   [8.0]|   3.5|3.4494652833200306|\n",
      "|   [8.0]|   3.5|3.4494652833200306|\n",
      "|   [9.0]|   3.9|3.7205586592178754|\n",
      "|   [9.0]|   3.9|3.7205586592178754|\n",
      "|  [11.0]|   4.3| 4.262745411013565|\n",
      "+--------+------+------------------+\n",
      "\n"
     ]
    }
   ],
   "source": [
    "pred = model.evaluate(test_dataset)\n",
    "pred.predictions.show()"
   ]
  },
  {
   "cell_type": "code",
   "execution_count": 13,
   "metadata": {},
   "outputs": [
    {
     "name": "stdout",
     "output_type": "stream",
     "text": [
      "[0.27109337589784493]\n"
     ]
    }
   ],
   "source": [
    "coefficient = model.coefficients\n",
    "print(coefficient)"
   ]
  },
  {
   "cell_type": "code",
   "execution_count": 14,
   "metadata": {},
   "outputs": [
    {
     "name": "stdout",
     "output_type": "stream",
     "text": [
      "1.280718276137271\n"
     ]
    }
   ],
   "source": [
    "intercept = model.intercept\n",
    "print(intercept)"
   ]
  },
  {
   "cell_type": "code",
   "execution_count": 19,
   "metadata": {},
   "outputs": [],
   "source": [
    "from pyspark.ml.evaluation import RegressionEvaluator\n",
    "\n",
    "evaluation = RegressionEvaluator(labelCol=\"Grades\",predictionCol='prediction')"
   ]
  },
  {
   "cell_type": "code",
   "execution_count": 20,
   "metadata": {},
   "outputs": [
    {
     "name": "stdout",
     "output_type": "stream",
     "text": [
      "RMSE : 0.079\n"
     ]
    }
   ],
   "source": [
    "rmse = evaluation.evaluate(pred.predictions,{evaluation.metricName:'rmse'})\n",
    "print(\"RMSE : %.3f\"%rmse)"
   ]
  },
  {
   "cell_type": "code",
   "execution_count": 22,
   "metadata": {},
   "outputs": [
    {
     "name": "stdout",
     "output_type": "stream",
     "text": [
      "MSE : 0.006\n"
     ]
    }
   ],
   "source": [
    "mse = evaluation.evaluate(pred.predictions,{evaluation.metricName:\"mse\"})\n",
    "print(\"MSE : %.3f\" %mse)"
   ]
  },
  {
   "cell_type": "code",
   "execution_count": 23,
   "metadata": {},
   "outputs": [
    {
     "name": "stdout",
     "output_type": "stream",
     "text": [
      "MAE : 0.054\n"
     ]
    }
   ],
   "source": [
    "mae = evaluation.evaluate(pred.predictions,{evaluation.metricName:'mae'})\n",
    "print(\"MAE : %.3f\" %mae)"
   ]
  },
  {
   "cell_type": "code",
   "execution_count": 24,
   "metadata": {},
   "outputs": [
    {
     "name": "stdout",
     "output_type": "stream",
     "text": [
      "R2 : 0.992\n"
     ]
    }
   ],
   "source": [
    "r2 = evaluation.evaluate(pred.predictions,{evaluation.metricName:\"r2\"})\n",
    "print(\"R2 : %.3f\" %r2)"
   ]
  },
  {
   "cell_type": "code",
   "execution_count": null,
   "metadata": {},
   "outputs": [],
   "source": []
  }
 ],
 "metadata": {
  "kernelspec": {
   "display_name": "Python 3",
   "language": "python",
   "name": "python3"
  },
  "language_info": {
   "codemirror_mode": {
    "name": "ipython",
    "version": 3
   },
   "file_extension": ".py",
   "mimetype": "text/x-python",
   "name": "python",
   "nbconvert_exporter": "python",
   "pygments_lexer": "ipython3",
   "version": "3.7.3"
  }
 },
 "nbformat": 4,
 "nbformat_minor": 2
}
