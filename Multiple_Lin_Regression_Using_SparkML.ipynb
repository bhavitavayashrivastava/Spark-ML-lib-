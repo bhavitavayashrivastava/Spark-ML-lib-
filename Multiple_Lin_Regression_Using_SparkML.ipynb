{
 "cells": [
  {
   "cell_type": "code",
   "execution_count": 1,
   "metadata": {},
   "outputs": [],
   "source": [
    "import findspark\n",
    "findspark.init()"
   ]
  },
  {
   "cell_type": "code",
   "execution_count": 2,
   "metadata": {},
   "outputs": [],
   "source": [
    "from pyspark.sql import SparkSession\n",
    "spark = SparkSession.builder.master('local[*]').getOrCreate()"
   ]
  },
  {
   "cell_type": "code",
   "execution_count": 3,
   "metadata": {},
   "outputs": [
    {
     "data": {
      "text/html": [
       "\n",
       "            <div>\n",
       "                <p><b>SparkSession - in-memory</b></p>\n",
       "                \n",
       "        <div>\n",
       "            <p><b>SparkContext</b></p>\n",
       "\n",
       "            <p><a href=\"http://bhavitavaya:4040\">Spark UI</a></p>\n",
       "\n",
       "            <dl>\n",
       "              <dt>Version</dt>\n",
       "                <dd><code>v2.4.4</code></dd>\n",
       "              <dt>Master</dt>\n",
       "                <dd><code>local[*]</code></dd>\n",
       "              <dt>AppName</dt>\n",
       "                <dd><code>pyspark-shell</code></dd>\n",
       "            </dl>\n",
       "        </div>\n",
       "        \n",
       "            </div>\n",
       "        "
      ],
      "text/plain": [
       "<pyspark.sql.session.SparkSession at 0x6dcb438>"
      ]
     },
     "execution_count": 3,
     "metadata": {},
     "output_type": "execute_result"
    }
   ],
   "source": [
    "spark"
   ]
  },
  {
   "cell_type": "code",
   "execution_count": 4,
   "metadata": {},
   "outputs": [],
   "source": [
    "import pandas as pd\n",
    "data = spark.read.csv('Restaurent_Profit_Data.txt',header=True,inferSchema=True)"
   ]
  },
  {
   "cell_type": "code",
   "execution_count": 5,
   "metadata": {},
   "outputs": [
    {
     "name": "stdout",
     "output_type": "stream",
     "text": [
      "root\n",
      " |-- Miscellaneous_Expenses: double (nullable = true)\n",
      " |-- Food_Innovation_Spend: double (nullable = true)\n",
      " |-- Advertising: double (nullable = true)\n",
      " |-- City: string (nullable = true)\n",
      " |-- Profit: double (nullable = true)\n",
      "\n"
     ]
    }
   ],
   "source": [
    "data.printSchema()"
   ]
  },
  {
   "cell_type": "code",
   "execution_count": 6,
   "metadata": {},
   "outputs": [
    {
     "data": {
      "text/plain": [
       "pyspark.sql.dataframe.DataFrame"
      ]
     },
     "execution_count": 6,
     "metadata": {},
     "output_type": "execute_result"
    }
   ],
   "source": [
    "type(data)"
   ]
  },
  {
   "cell_type": "code",
   "execution_count": 7,
   "metadata": {},
   "outputs": [
    {
     "name": "stdout",
     "output_type": "stream",
     "text": [
      "+----------------------+---------------------+-----------+-------+---------+\n",
      "|Miscellaneous_Expenses|Food_Innovation_Spend|Advertising|   City|   Profit|\n",
      "+----------------------+---------------------+-----------+-------+---------+\n",
      "|              138671.8|             167497.2|   475918.1|Chicago|202443.83|\n",
      "|             153151.59|             164745.7|  448032.53| Mumbai|201974.06|\n",
      "|             102919.55|            155589.51|  412068.54|  Tokyo|201232.39|\n",
      "|             120445.85|            146520.41|  387333.62|Chicago|193083.99|\n",
      "|              93165.77|            144255.34|  370302.42|  Tokyo|176369.94|\n",
      "|             101588.71|             134024.9|  366995.36|Chicago|167173.12|\n",
      "|             148972.87|            136763.46|  131850.82| Mumbai|166304.51|\n",
      "|             147304.06|            132446.13|  328010.68|  Tokyo| 165934.6|\n",
      "|             150492.95|            122690.52|  315747.29|Chicago|162393.77|\n",
      "|             110453.17|            125482.88|  309115.62| Mumbai|159941.96|\n",
      "|             112368.11|            104061.08|  233294.95|  Tokyo|156303.95|\n",
      "|              93564.61|            102819.96|  253878.55| Mumbai| 154441.4|\n",
      "|             129094.38|             96011.75|  253973.44|  Tokyo|151767.52|\n",
      "|             137269.07|             94140.39|  256798.93| Mumbai|144489.35|\n",
      "|             158321.42|            122091.24|  260646.92|  Tokyo|142784.65|\n",
      "|             124390.84|            116671.61|  265910.23|Chicago|140099.04|\n",
      "|             123371.55|             80161.11|  268480.06| Mumbai|137174.93|\n",
      "|             146851.58|             96805.16|  286708.31|Chicago|135552.37|\n",
      "|             115949.79|             93897.16|  299053.57|  Tokyo| 134448.9|\n",
      "|             155288.11|              88567.7|     4134.0|Chicago|132958.86|\n",
      "+----------------------+---------------------+-----------+-------+---------+\n",
      "only showing top 20 rows\n",
      "\n"
     ]
    }
   ],
   "source": [
    "# Display the data\n",
    "data.show()"
   ]
  },
  {
   "cell_type": "code",
   "execution_count": 8,
   "metadata": {},
   "outputs": [
    {
     "data": {
      "text/plain": [
       "[('Miscellaneous_Expenses', 'double'),\n",
       " ('Food_Innovation_Spend', 'double'),\n",
       " ('Advertising', 'double'),\n",
       " ('City', 'string'),\n",
       " ('Profit', 'double')]"
      ]
     },
     "execution_count": 8,
     "metadata": {},
     "output_type": "execute_result"
    }
   ],
   "source": [
    "data.dtypes"
   ]
  },
  {
   "cell_type": "code",
   "execution_count": 10,
   "metadata": {},
   "outputs": [
    {
     "name": "stdout",
     "output_type": "stream",
     "text": [
      "['City']\n",
      "['Miscellaneous_Expenses', 'Food_Innovation_Spend', 'Advertising']\n"
     ]
    }
   ],
   "source": [
    "# create categorical features and numnerical variables , omitting the last column\n",
    "\n",
    "categorical_cols = [item[0] for item in data.dtypes if item[1].startswith('string')]\n",
    "print(categorical_cols)\n",
    "\n",
    "numerical_cols = [item[0] for item in data.dtypes if item[1].startswith('int')| item[1].startswith('double')][:-1]\n",
    "print(numerical_cols)"
   ]
  },
  {
   "cell_type": "code",
   "execution_count": 12,
   "metadata": {},
   "outputs": [
    {
     "name": "stdout",
     "output_type": "stream",
     "text": [
      "1: categorical_cols\n",
      "3: numerical_cols\n"
     ]
    }
   ],
   "source": [
    "print(str(len(categorical_cols)) + \": categorical_cols\")\n",
    "print(str(len(numerical_cols)) + \": numerical_cols\")"
   ]
  },
  {
   "cell_type": "code",
   "execution_count": 32,
   "metadata": {},
   "outputs": [],
   "source": [
    "from pyspark.ml.feature import StringIndexer,OneHotEncoderEstimator,VectorAssembler\n",
    "stages = []\n",
    "for cat_columns in categorical_cols:\n",
    "    stringIndexer = StringIndexer(inputCol = cat_columns,outputCol=cat_columns+\"index\")\n",
    "    onehotencoder = OneHotEncoderEstimator(inputCols=[stringIndexer.getOutputCol()],outputCols=[cat_columns + \"_catVec\"])\n",
    "stages += [stringIndexer,onehotencoder]\n",
    "assemblerInputs = [c + \"_catVec\" for c in categorical_cols] + numerical_cols\n",
    "vectorassembler = VectorAssembler(inputCols=assemblerInputs,outputCol=\"features\")\n",
    "stages += [vectorassembler]"
   ]
  },
  {
   "cell_type": "markdown",
   "metadata": {},
   "source": [
    "## Spark MLlib pipeline to Apply all the stages of transformation "
   ]
  },
  {
   "cell_type": "code",
   "execution_count": 33,
   "metadata": {},
   "outputs": [],
   "source": [
    "from pyspark.ml import Pipeline"
   ]
  },
  {
   "cell_type": "code",
   "execution_count": 34,
   "metadata": {},
   "outputs": [
    {
     "data": {
      "text/html": [
       "<div>\n",
       "<style scoped>\n",
       "    .dataframe tbody tr th:only-of-type {\n",
       "        vertical-align: middle;\n",
       "    }\n",
       "\n",
       "    .dataframe tbody tr th {\n",
       "        vertical-align: top;\n",
       "    }\n",
       "\n",
       "    .dataframe thead th {\n",
       "        text-align: right;\n",
       "    }\n",
       "</style>\n",
       "<table border=\"1\" class=\"dataframe\">\n",
       "  <thead>\n",
       "    <tr style=\"text-align: right;\">\n",
       "      <th></th>\n",
       "      <th>features</th>\n",
       "      <th>Miscellaneous_Expenses</th>\n",
       "      <th>Food_Innovation_Spend</th>\n",
       "      <th>Advertising</th>\n",
       "      <th>City</th>\n",
       "      <th>Profit</th>\n",
       "    </tr>\n",
       "  </thead>\n",
       "  <tbody>\n",
       "    <tr>\n",
       "      <th>0</th>\n",
       "      <td>[1.0, 0.0, 138671.8, 167497.2, 475918.1]</td>\n",
       "      <td>138671.80</td>\n",
       "      <td>167497.20</td>\n",
       "      <td>475918.10</td>\n",
       "      <td>Chicago</td>\n",
       "      <td>202443.83</td>\n",
       "    </tr>\n",
       "    <tr>\n",
       "      <th>1</th>\n",
       "      <td>[0.0, 1.0, 153151.59, 164745.7, 448032.53]</td>\n",
       "      <td>153151.59</td>\n",
       "      <td>164745.70</td>\n",
       "      <td>448032.53</td>\n",
       "      <td>Mumbai</td>\n",
       "      <td>201974.06</td>\n",
       "    </tr>\n",
       "    <tr>\n",
       "      <th>2</th>\n",
       "      <td>[0.0, 0.0, 102919.55, 155589.51, 412068.54]</td>\n",
       "      <td>102919.55</td>\n",
       "      <td>155589.51</td>\n",
       "      <td>412068.54</td>\n",
       "      <td>Tokyo</td>\n",
       "      <td>201232.39</td>\n",
       "    </tr>\n",
       "    <tr>\n",
       "      <th>3</th>\n",
       "      <td>[1.0, 0.0, 120445.85, 146520.41, 387333.62]</td>\n",
       "      <td>120445.85</td>\n",
       "      <td>146520.41</td>\n",
       "      <td>387333.62</td>\n",
       "      <td>Chicago</td>\n",
       "      <td>193083.99</td>\n",
       "    </tr>\n",
       "    <tr>\n",
       "      <th>4</th>\n",
       "      <td>[0.0, 0.0, 93165.77, 144255.34, 370302.42]</td>\n",
       "      <td>93165.77</td>\n",
       "      <td>144255.34</td>\n",
       "      <td>370302.42</td>\n",
       "      <td>Tokyo</td>\n",
       "      <td>176369.94</td>\n",
       "    </tr>\n",
       "  </tbody>\n",
       "</table>\n",
       "</div>"
      ],
      "text/plain": [
       "                                      features  Miscellaneous_Expenses  \\\n",
       "0     [1.0, 0.0, 138671.8, 167497.2, 475918.1]               138671.80   \n",
       "1   [0.0, 1.0, 153151.59, 164745.7, 448032.53]               153151.59   \n",
       "2  [0.0, 0.0, 102919.55, 155589.51, 412068.54]               102919.55   \n",
       "3  [1.0, 0.0, 120445.85, 146520.41, 387333.62]               120445.85   \n",
       "4   [0.0, 0.0, 93165.77, 144255.34, 370302.42]                93165.77   \n",
       "\n",
       "   Food_Innovation_Spend  Advertising     City     Profit  \n",
       "0              167497.20    475918.10  Chicago  202443.83  \n",
       "1              164745.70    448032.53   Mumbai  201974.06  \n",
       "2              155589.51    412068.54    Tokyo  201232.39  \n",
       "3              146520.41    387333.62  Chicago  193083.99  \n",
       "4              144255.34    370302.42    Tokyo  176369.94  "
      ]
     },
     "execution_count": 34,
     "metadata": {},
     "output_type": "execute_result"
    }
   ],
   "source": [
    "cols = data.columns\n",
    "pipeline = Pipeline(stages = stages)\n",
    "pipelineModel = pipeline.fit(data)\n",
    "data = pipelineModel.transform(data)\n",
    "selectedCols = [\"features\"]+cols\n",
    "data = data.select(selectedCols)\n",
    "pd.DataFrame(data.take(5),columns=data.columns)"
   ]
  },
  {
   "cell_type": "code",
   "execution_count": 35,
   "metadata": {},
   "outputs": [
    {
     "name": "stdout",
     "output_type": "stream",
     "text": [
      "+--------------------+----------------------+---------------------+-----------+-------+---------+\n",
      "|            features|Miscellaneous_Expenses|Food_Innovation_Spend|Advertising|   City|   Profit|\n",
      "+--------------------+----------------------+---------------------+-----------+-------+---------+\n",
      "|[1.0,0.0,138671.8...|              138671.8|             167497.2|   475918.1|Chicago|202443.83|\n",
      "|[0.0,1.0,153151.5...|             153151.59|             164745.7|  448032.53| Mumbai|201974.06|\n",
      "|[0.0,0.0,102919.5...|             102919.55|            155589.51|  412068.54|  Tokyo|201232.39|\n",
      "|[1.0,0.0,120445.8...|             120445.85|            146520.41|  387333.62|Chicago|193083.99|\n",
      "|[0.0,0.0,93165.77...|              93165.77|            144255.34|  370302.42|  Tokyo|176369.94|\n",
      "|[1.0,0.0,101588.7...|             101588.71|             134024.9|  366995.36|Chicago|167173.12|\n",
      "|[0.0,1.0,148972.8...|             148972.87|            136763.46|  131850.82| Mumbai|166304.51|\n",
      "|[0.0,0.0,147304.0...|             147304.06|            132446.13|  328010.68|  Tokyo| 165934.6|\n",
      "|[1.0,0.0,150492.9...|             150492.95|            122690.52|  315747.29|Chicago|162393.77|\n",
      "|[0.0,1.0,110453.1...|             110453.17|            125482.88|  309115.62| Mumbai|159941.96|\n",
      "|[0.0,0.0,112368.1...|             112368.11|            104061.08|  233294.95|  Tokyo|156303.95|\n",
      "|[0.0,1.0,93564.61...|              93564.61|            102819.96|  253878.55| Mumbai| 154441.4|\n",
      "|[0.0,0.0,129094.3...|             129094.38|             96011.75|  253973.44|  Tokyo|151767.52|\n",
      "|[0.0,1.0,137269.0...|             137269.07|             94140.39|  256798.93| Mumbai|144489.35|\n",
      "|[0.0,0.0,158321.4...|             158321.42|            122091.24|  260646.92|  Tokyo|142784.65|\n",
      "|[1.0,0.0,124390.8...|             124390.84|            116671.61|  265910.23|Chicago|140099.04|\n",
      "|[0.0,1.0,123371.5...|             123371.55|             80161.11|  268480.06| Mumbai|137174.93|\n",
      "|[1.0,0.0,146851.5...|             146851.58|             96805.16|  286708.31|Chicago|135552.37|\n",
      "|[0.0,0.0,115949.7...|             115949.79|             93897.16|  299053.57|  Tokyo| 134448.9|\n",
      "|[1.0,0.0,155288.1...|             155288.11|              88567.7|     4134.0|Chicago|132958.86|\n",
      "+--------------------+----------------------+---------------------+-----------+-------+---------+\n",
      "only showing top 20 rows\n",
      "\n"
     ]
    }
   ],
   "source": [
    "data.show()"
   ]
  },
  {
   "cell_type": "code",
   "execution_count": 36,
   "metadata": {},
   "outputs": [
    {
     "name": "stdout",
     "output_type": "stream",
     "text": [
      "+--------------------+---------+\n",
      "|            features|   profit|\n",
      "+--------------------+---------+\n",
      "|[1.0,0.0,138671.8...|202443.83|\n",
      "|[0.0,1.0,153151.5...|201974.06|\n",
      "|[0.0,0.0,102919.5...|201232.39|\n",
      "|[1.0,0.0,120445.8...|193083.99|\n",
      "|[0.0,0.0,93165.77...|176369.94|\n",
      "|[1.0,0.0,101588.7...|167173.12|\n",
      "|[0.0,1.0,148972.8...|166304.51|\n",
      "|[0.0,0.0,147304.0...| 165934.6|\n",
      "|[1.0,0.0,150492.9...|162393.77|\n",
      "|[0.0,1.0,110453.1...|159941.96|\n",
      "|[0.0,0.0,112368.1...|156303.95|\n",
      "|[0.0,1.0,93564.61...| 154441.4|\n",
      "|[0.0,0.0,129094.3...|151767.52|\n",
      "|[0.0,1.0,137269.0...|144489.35|\n",
      "|[0.0,0.0,158321.4...|142784.65|\n",
      "|[1.0,0.0,124390.8...|140099.04|\n",
      "|[0.0,1.0,123371.5...|137174.93|\n",
      "|[1.0,0.0,146851.5...|135552.37|\n",
      "|[0.0,0.0,115949.7...| 134448.9|\n",
      "|[1.0,0.0,155288.1...|132958.86|\n",
      "+--------------------+---------+\n",
      "only showing top 20 rows\n",
      "\n"
     ]
    }
   ],
   "source": [
    "final_data = data.select(\"features\",\"profit\")\n",
    "final_data.show()"
   ]
  },
  {
   "cell_type": "code",
   "execution_count": 38,
   "metadata": {},
   "outputs": [],
   "source": [
    "train_dataset,test_dataset = final_data.randomSplit([0.7,0.3])"
   ]
  },
  {
   "cell_type": "code",
   "execution_count": 44,
   "metadata": {},
   "outputs": [],
   "source": [
    "from pyspark.ml.regression import LinearRegression\n",
    "MLR = LinearRegression(featuresCol = \"features\",labelCol = \"profit\")"
   ]
  },
  {
   "cell_type": "code",
   "execution_count": 45,
   "metadata": {},
   "outputs": [],
   "source": [
    "model = MLR.fit(train_dataset)"
   ]
  },
  {
   "cell_type": "code",
   "execution_count": 46,
   "metadata": {},
   "outputs": [],
   "source": [
    "pred = model.evaluate(test_dataset)"
   ]
  },
  {
   "cell_type": "code",
   "execution_count": 47,
   "metadata": {},
   "outputs": [
    {
     "name": "stdout",
     "output_type": "stream",
     "text": [
      "+--------------------+---------+------------------+\n",
      "|            features|   profit|        prediction|\n",
      "+--------------------+---------+------------------+\n",
      "|[0.0,0.0,86484.77...| 87980.83| 85065.55365563772|\n",
      "|[0.0,0.0,93165.77...|176369.94| 185129.8325300921|\n",
      "|[0.0,0.0,145909.9...|115915.54|121360.33325914326|\n",
      "|[0.0,0.0,184419.5...|113464.38|111432.02785916431|\n",
      "|[0.0,1.0,84756.09...| 91187.76| 93377.74708858396|\n",
      "|[0.0,1.0,115641.3...|128656.03|126390.94123157437|\n",
      "|[0.0,1.0,137269.0...|144489.35| 137515.2997775195|\n",
      "|[1.0,0.0,86821.44...|106661.51| 99300.84187939132|\n",
      "|[1.0,0.0,101055.3...|118734.04|123145.77096041071|\n",
      "|[1.0,0.0,120445.8...|193083.99| 184272.7246786328|\n",
      "|[1.0,0.0,124390.8...|140099.04|156271.46705197188|\n",
      "|[1.0,0.0,125927.0...| 75108.08| 55061.96877825327|\n",
      "|[1.0,0.0,138671.8...|202443.83|203052.18796167916|\n",
      "|[1.0,0.0,150492.9...|162393.77| 161255.5305817661|\n",
      "|[1.0,0.0,154475.9...|107665.56|106127.61954295603|\n",
      "+--------------------+---------+------------------+\n",
      "\n"
     ]
    }
   ],
   "source": [
    "pred.predictions.show()"
   ]
  },
  {
   "cell_type": "code",
   "execution_count": 48,
   "metadata": {},
   "outputs": [
    {
     "name": "stdout",
     "output_type": "stream",
     "text": [
      "The coefficients of the model are : DenseVector([-1883.1807, -949.3654, -0.0464, 0.838, 0.0231])\n"
     ]
    }
   ],
   "source": [
    "coefficient = model.coefficients\n",
    "print (\"The coefficients of the model are : %a\" %coefficient)"
   ]
  },
  {
   "cell_type": "code",
   "execution_count": 49,
   "metadata": {},
   "outputs": [
    {
     "name": "stdout",
     "output_type": "stream",
     "text": [
      "The Intercept of the model is : 60008.544286\n"
     ]
    }
   ],
   "source": [
    "intercept = model.intercept\n",
    "print (\"The Intercept of the model is : %f\" %intercept)"
   ]
  },
  {
   "cell_type": "code",
   "execution_count": 51,
   "metadata": {},
   "outputs": [
    {
     "name": "stdout",
     "output_type": "stream",
     "text": [
      "r2: 0.952\n"
     ]
    }
   ],
   "source": [
    "from pyspark.ml.evaluation import RegressionEvaluator\n",
    "evaluation = RegressionEvaluator(labelCol=\"profit\", predictionCol=\"prediction\")\n",
    "\n",
    "# r2 - coefficient of determination\n",
    "r2 = evaluation.evaluate(pred.predictions, {evaluation.metricName: \"r2\"})\n",
    "print(\"r2: %.3f\" %r2)"
   ]
  },
  {
   "cell_type": "code",
   "execution_count": 52,
   "metadata": {},
   "outputs": [],
   "source": [
    "unlabeled_dataset = test_dataset.select('features')"
   ]
  },
  {
   "cell_type": "code",
   "execution_count": 53,
   "metadata": {},
   "outputs": [
    {
     "name": "stdout",
     "output_type": "stream",
     "text": [
      "+--------------------+\n",
      "|            features|\n",
      "+--------------------+\n",
      "|[0.0,0.0,86484.77...|\n",
      "|[0.0,0.0,93165.77...|\n",
      "|[0.0,0.0,145909.9...|\n",
      "|[0.0,0.0,184419.5...|\n",
      "|[0.0,1.0,84756.09...|\n",
      "|[0.0,1.0,115641.3...|\n",
      "|[0.0,1.0,137269.0...|\n",
      "|[1.0,0.0,86821.44...|\n",
      "|[1.0,0.0,101055.3...|\n",
      "|[1.0,0.0,120445.8...|\n",
      "|[1.0,0.0,124390.8...|\n",
      "|[1.0,0.0,125927.0...|\n",
      "|[1.0,0.0,138671.8...|\n",
      "|[1.0,0.0,150492.9...|\n",
      "|[1.0,0.0,154475.9...|\n",
      "+--------------------+\n",
      "\n"
     ]
    }
   ],
   "source": [
    "unlabeled_dataset.show()"
   ]
  },
  {
   "cell_type": "code",
   "execution_count": 55,
   "metadata": {},
   "outputs": [
    {
     "name": "stdout",
     "output_type": "stream",
     "text": [
      "+--------------------+------------------+\n",
      "|            features|        prediction|\n",
      "+--------------------+------------------+\n",
      "|[0.0,0.0,86484.77...| 85065.55365563772|\n",
      "|[0.0,0.0,93165.77...| 185129.8325300921|\n",
      "|[0.0,0.0,145909.9...|121360.33325914326|\n",
      "|[0.0,0.0,184419.5...|111432.02785916431|\n",
      "|[0.0,1.0,84756.09...| 93377.74708858396|\n",
      "|[0.0,1.0,115641.3...|126390.94123157437|\n",
      "|[0.0,1.0,137269.0...| 137515.2997775195|\n",
      "|[1.0,0.0,86821.44...| 99300.84187939132|\n",
      "|[1.0,0.0,101055.3...|123145.77096041071|\n",
      "|[1.0,0.0,120445.8...| 184272.7246786328|\n",
      "|[1.0,0.0,124390.8...|156271.46705197188|\n",
      "|[1.0,0.0,125927.0...| 55061.96877825327|\n",
      "|[1.0,0.0,138671.8...|203052.18796167916|\n",
      "|[1.0,0.0,150492.9...| 161255.5305817661|\n",
      "|[1.0,0.0,154475.9...|106127.61954295603|\n",
      "+--------------------+------------------+\n",
      "\n"
     ]
    }
   ],
   "source": [
    "new_predictions = model.transform(unlabeled_dataset)\n",
    "new_predictions.show()\n"
   ]
  },
  {
   "cell_type": "code",
   "execution_count": null,
   "metadata": {},
   "outputs": [],
   "source": []
  }
 ],
 "metadata": {
  "kernelspec": {
   "display_name": "Python 3",
   "language": "python",
   "name": "python3"
  },
  "language_info": {
   "codemirror_mode": {
    "name": "ipython",
    "version": 3
   },
   "file_extension": ".py",
   "mimetype": "text/x-python",
   "name": "python",
   "nbconvert_exporter": "python",
   "pygments_lexer": "ipython3",
   "version": "3.7.3"
  }
 },
 "nbformat": 4,
 "nbformat_minor": 2
}
